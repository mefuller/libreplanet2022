{
 "cells": [
  {
   "cell_type": "code",
   "execution_count": 16,
   "id": "ec22de18",
   "metadata": {},
   "outputs": [],
   "source": [
    "from PIL import Image"
   ]
  },
  {
   "cell_type": "code",
   "execution_count": 17,
   "id": "46a2a6b7",
   "metadata": {},
   "outputs": [],
   "source": [
    "image_file = Image.open(\"qr.jpg\") # open colour image\n",
    "image_file = image_file.convert('1') # convert image to black and white\n",
    "\n",
    "\n",
    "image_file.save('qr.png')"
   ]
  },
  {
   "cell_type": "code",
   "execution_count": null,
   "id": "70665712",
   "metadata": {},
   "outputs": [],
   "source": []
  }
 ],
 "metadata": {
  "kernelspec": {
   "display_name": "Python 3 (ipykernel)",
   "language": "python",
   "name": "python3"
  },
  "language_info": {
   "codemirror_mode": {
    "name": "ipython",
    "version": 3
   },
   "file_extension": ".py",
   "mimetype": "text/x-python",
   "name": "python",
   "nbconvert_exporter": "python",
   "pygments_lexer": "ipython3",
   "version": "3.9.7"
  }
 },
 "nbformat": 4,
 "nbformat_minor": 5
}
